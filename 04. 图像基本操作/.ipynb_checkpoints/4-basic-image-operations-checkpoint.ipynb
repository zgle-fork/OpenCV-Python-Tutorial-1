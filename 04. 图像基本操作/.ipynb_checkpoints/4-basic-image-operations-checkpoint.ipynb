{
 "cells": [
  {
   "cell_type": "code",
   "execution_count": 1,
   "metadata": {},
   "outputs": [
    {
     "name": "stdout",
     "output_type": "stream",
     "text": [
      "[103  98 197]\n",
      "103\n",
      "[255 255 255]\n",
      "(263, 247, 3)\n",
      "194883\n",
      "uint8\n"
     ]
    },
    {
     "data": {
      "text/plain": [
       "-1"
      ]
     },
     "execution_count": 1,
     "metadata": {},
     "output_type": "execute_result"
    }
   ],
   "source": [
    "# ex2tron's blog:\n",
    "# http://ex2tron.wang\n",
    "\n",
    "import cv2\n",
    "\n",
    "img = cv2.imread('lena.jpg')\n",
    "\n",
    "# 1.获取像素的值\n",
    "px = img[100, 90]\n",
    "print(px)  # [103 98 197]\n",
    "\n",
    "# 只获取蓝色blue通道的值\n",
    "px_blue = img[100, 90, 0]\n",
    "print(px_blue)  # 103\n",
    "\n",
    "\n",
    "# 2.修改像素的值\n",
    "img[100, 90] = [255, 255, 255]\n",
    "print(img[100, 90])  # [255 255 255]\n",
    "\n",
    "\n",
    "# 3.图片形状\n",
    "print(img.shape)  # (263, 247, 3)\n",
    "# 形状中包括行数、列数和通道数\n",
    "height, width, channels = img.shape\n",
    "# img是灰度图的话：height, width = img.shape\n",
    "\n",
    "# 总像素数\n",
    "print(img.size)  # 263*247*3=194883\n",
    "# 数据类型\n",
    "print(img.dtype)  # uint8\n",
    "\n",
    "\n",
    "# 4.ROI截取\n",
    "face = img[100:200, 115:188]\n",
    "cv2.imshow('face', face)\n",
    "cv2.waitKey(0)\n",
    "\n",
    "\n",
    "# 5.通道分割与合并\n",
    "b, g, r = cv2.split(img)\n",
    "img = cv2.merge((b, g, r))\n",
    "# 更推荐的获取某一通道方式\n",
    "b = img[:, :, 0]\n",
    "cv2.imshow('b', b)\n",
    "cv2.waitKey(0)\n"
   ]
  },
  {
   "cell_type": "markdown",
   "metadata": {},
   "source": [
    "# matplotlib method"
   ]
  },
  {
   "cell_type": "code",
   "execution_count": 2,
   "metadata": {},
   "outputs": [],
   "source": [
    "#%pylab notebook #Populating the interactive namespace from numpy and matplotlib\n",
    "from pylab import *\n",
    "import cv2"
   ]
  },
  {
   "cell_type": "code",
   "execution_count": 3,
   "metadata": {},
   "outputs": [
    {
     "name": "stdout",
     "output_type": "stream",
     "text": [
      "[103  98 197]\n"
     ]
    }
   ],
   "source": [
    "img = cv2.imread('lena.jpg')\n",
    "\n",
    "# 1.获取像素的值\n",
    "px = img[100, 90]\n",
    "print(px)  # [103 98 197]"
   ]
  },
  {
   "cell_type": "code",
   "execution_count": 4,
   "metadata": {},
   "outputs": [
    {
     "name": "stdout",
     "output_type": "stream",
     "text": [
      "103\n"
     ]
    }
   ],
   "source": [
    "# 只获取蓝色blue通道的值\n",
    "px_blue = img[100, 90, 0]\n",
    "print(px_blue)  # 103"
   ]
  },
  {
   "cell_type": "code",
   "execution_count": 5,
   "metadata": {},
   "outputs": [
    {
     "name": "stdout",
     "output_type": "stream",
     "text": [
      "[255 255 255]\n"
     ]
    }
   ],
   "source": [
    "# 2.修改像素的值\n",
    "img[100, 90] = [255, 255, 255]\n",
    "print(img[100, 90])  # [255 255 255]"
   ]
  },
  {
   "cell_type": "code",
   "execution_count": 6,
   "metadata": {},
   "outputs": [
    {
     "name": "stdout",
     "output_type": "stream",
     "text": [
      "(263, 247, 3)\n"
     ]
    }
   ],
   "source": [
    "# 3.图片形状\n",
    "print(img.shape)  # (263, 247, 3)\n",
    "# 形状中包括行数、列数和通道数\n",
    "height, width, channels = img.shape\n",
    "# img是灰度图的话：height, width = img.shape"
   ]
  },
  {
   "cell_type": "code",
   "execution_count": 7,
   "metadata": {},
   "outputs": [
    {
     "name": "stdout",
     "output_type": "stream",
     "text": [
      "194883\n",
      "uint8\n"
     ]
    }
   ],
   "source": [
    "# 总像素数\n",
    "print(img.size)  # 263*247*3=194883\n",
    "# 数据类型\n",
    "print(img.dtype)  # uint8"
   ]
  },
  {
   "cell_type": "code",
   "execution_count": 8,
   "metadata": {},
   "outputs": [
    {
     "data": {
      "text/plain": [
       "13"
      ]
     },
     "execution_count": 8,
     "metadata": {},
     "output_type": "execute_result"
    }
   ],
   "source": [
    "# 4.ROI截取\n",
    "face = img[100:200, 115:188]\n",
    "cv2.imshow('face', face)\n",
    "cv2.waitKey(0)"
   ]
  },
  {
   "cell_type": "code",
   "execution_count": 14,
   "metadata": {},
   "outputs": [],
   "source": [
    "# 5.通道分割与合并\n",
    "b, g, r = cv2.split(img)\n",
    "img = cv2.merge((b, g, r))"
   ]
  },
  {
   "cell_type": "code",
   "execution_count": 15,
   "metadata": {},
   "outputs": [
    {
     "data": {
      "text/plain": [
       "-1"
      ]
     },
     "execution_count": 15,
     "metadata": {},
     "output_type": "execute_result"
    }
   ],
   "source": [
    "# 更推荐的获取某一通道方式\n",
    "# b = img[:, :, 0]\n",
    "# b = img[:, 0, :]\n",
    "cv2.imshow('b', b)\n",
    "cv2.waitKey(0)"
   ]
  },
  {
   "cell_type": "code",
   "execution_count": 16,
   "metadata": {},
   "outputs": [
    {
     "data": {
      "text/plain": [
       "-1"
      ]
     },
     "execution_count": 16,
     "metadata": {},
     "output_type": "execute_result"
    }
   ],
   "source": [
    "cv2.imshow('g', g)\n",
    "cv2.waitKey(0)"
   ]
  },
  {
   "cell_type": "code",
   "execution_count": 17,
   "metadata": {},
   "outputs": [
    {
     "data": {
      "text/plain": [
       "-1"
      ]
     },
     "execution_count": 17,
     "metadata": {},
     "output_type": "execute_result"
    }
   ],
   "source": [
    "cv2.imshow('r', r)\n",
    "cv2.waitKey(0)"
   ]
  }
 ],
 "metadata": {
  "kernelspec": {
   "display_name": "Python [conda env:py373] *",
   "language": "python",
   "name": "conda-env-py373-py"
  },
  "language_info": {
   "codemirror_mode": {
    "name": "ipython",
    "version": 3
   },
   "file_extension": ".py",
   "mimetype": "text/x-python",
   "name": "python",
   "nbconvert_exporter": "python",
   "pygments_lexer": "ipython3",
   "version": "3.7.3"
  }
 },
 "nbformat": 4,
 "nbformat_minor": 4
}
